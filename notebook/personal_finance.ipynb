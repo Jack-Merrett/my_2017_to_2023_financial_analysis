{
 "cells": [
  {
   "cell_type": "markdown",
   "metadata": {},
   "source": [
    "# Personal Finance Analysis 📊"
   ]
  },
  {
   "cell_type": "markdown",
   "metadata": {},
   "source": [
    "## Introduction\n",
    "- In this project we will be taking a look at my personal finances.\n",
    "- These are directly taken from the Hawaii State federal Credit Union web portal \n",
    "- This is time series Data as they are taking every month from 2016-2023\n",
    "- we will be doing some analysis on the data, both checking and savings. "
   ]
  },
  {
   "cell_type": "markdown",
   "metadata": {},
   "source": [
    "## Call in the data sets and the libraries"
   ]
  },
  {
   "cell_type": "code",
   "execution_count": 3,
   "metadata": {},
   "outputs": [],
   "source": [
    "# start with the generic \n",
    "import pandas as pd\n",
    "import numpy as np\n",
    "import matplotlib.pyplot as plt\n",
    "import seaborn as sns\n"
   ]
  },
  {
   "cell_type": "markdown",
   "metadata": {},
   "source": [
    "## call in the data set"
   ]
  },
  {
   "cell_type": "code",
   "execution_count": 4,
   "metadata": {},
   "outputs": [
    {
     "data": {
      "text/html": [
       "<div>\n",
       "<style scoped>\n",
       "    .dataframe tbody tr th:only-of-type {\n",
       "        vertical-align: middle;\n",
       "    }\n",
       "\n",
       "    .dataframe tbody tr th {\n",
       "        vertical-align: top;\n",
       "    }\n",
       "\n",
       "    .dataframe thead th {\n",
       "        text-align: right;\n",
       "    }\n",
       "</style>\n",
       "<table border=\"1\" class=\"dataframe\">\n",
       "  <thead>\n",
       "    <tr style=\"text-align: right;\">\n",
       "      <th></th>\n",
       "      <th>Transaction ID</th>\n",
       "      <th>Date</th>\n",
       "      <th>Description</th>\n",
       "      <th>Check Number</th>\n",
       "      <th>Category</th>\n",
       "      <th>Amount</th>\n",
       "      <th>Balance</th>\n",
       "    </tr>\n",
       "  </thead>\n",
       "  <tbody>\n",
       "    <tr>\n",
       "      <th>0</th>\n",
       "      <td>98347589|9178</td>\n",
       "      <td>08/24/23</td>\n",
       "      <td>Point Of Sale Withdrawal KRISPY KREME #1123   ...</td>\n",
       "      <td>NaN</td>\n",
       "      <td>Restaurants/Dining</td>\n",
       "      <td>-$23.39</td>\n",
       "      <td>$180.15</td>\n",
       "    </tr>\n",
       "    <tr>\n",
       "      <th>1</th>\n",
       "      <td>98347589|9177</td>\n",
       "      <td>08/22/23</td>\n",
       "      <td>Point Of Sale Withdrawal RODEO GENERAL STORE  ...</td>\n",
       "      <td>NaN</td>\n",
       "      <td>Groceries</td>\n",
       "      <td>-$4.06</td>\n",
       "      <td>$203.54</td>\n",
       "    </tr>\n",
       "    <tr>\n",
       "      <th>2</th>\n",
       "      <td>98347589|9176</td>\n",
       "      <td>08/21/23</td>\n",
       "      <td>Point Of Sale Withdrawal RODEO GENERAL STORE  ...</td>\n",
       "      <td>NaN</td>\n",
       "      <td>Groceries</td>\n",
       "      <td>-$2.66</td>\n",
       "      <td>$207.60</td>\n",
       "    </tr>\n",
       "    <tr>\n",
       "      <th>3</th>\n",
       "      <td>98347589|9175</td>\n",
       "      <td>08/21/23</td>\n",
       "      <td>Point Of Sale Withdrawal RODEO GENERAL STORE  ...</td>\n",
       "      <td>NaN</td>\n",
       "      <td>Groceries</td>\n",
       "      <td>-$7.71</td>\n",
       "      <td>$210.26</td>\n",
       "    </tr>\n",
       "    <tr>\n",
       "      <th>4</th>\n",
       "      <td>98347589|9174</td>\n",
       "      <td>08/21/23</td>\n",
       "      <td>Point Of Sale Withdrawal COURSRA5PNTH7L5RV2EQN...</td>\n",
       "      <td>NaN</td>\n",
       "      <td>Clothing/Shoes</td>\n",
       "      <td>-$49.00</td>\n",
       "      <td>$217.97</td>\n",
       "    </tr>\n",
       "  </tbody>\n",
       "</table>\n",
       "</div>"
      ],
      "text/plain": [
       "  Transaction ID      Date                                        Description  \\\n",
       "0  98347589|9178  08/24/23  Point Of Sale Withdrawal KRISPY KREME #1123   ...   \n",
       "1  98347589|9177  08/22/23  Point Of Sale Withdrawal RODEO GENERAL STORE  ...   \n",
       "2  98347589|9176  08/21/23  Point Of Sale Withdrawal RODEO GENERAL STORE  ...   \n",
       "3  98347589|9175  08/21/23  Point Of Sale Withdrawal RODEO GENERAL STORE  ...   \n",
       "4  98347589|9174  08/21/23  Point Of Sale Withdrawal COURSRA5PNTH7L5RV2EQN...   \n",
       "\n",
       "   Check Number            Category   Amount  Balance  \n",
       "0           NaN  Restaurants/Dining  -$23.39  $180.15  \n",
       "1           NaN           Groceries   -$4.06  $203.54  \n",
       "2           NaN           Groceries   -$2.66  $207.60  \n",
       "3           NaN           Groceries   -$7.71  $210.26  \n",
       "4           NaN      Clothing/Shoes  -$49.00  $217.97  "
      ]
     },
     "execution_count": 4,
     "metadata": {},
     "output_type": "execute_result"
    }
   ],
   "source": [
    "df_checking = pd.read_csv('../data/Checking_Transactions.csv')\n",
    "df_checking.head()"
   ]
  },
  {
   "cell_type": "code",
   "execution_count": 5,
   "metadata": {},
   "outputs": [
    {
     "data": {
      "text/html": [
       "<div>\n",
       "<style scoped>\n",
       "    .dataframe tbody tr th:only-of-type {\n",
       "        vertical-align: middle;\n",
       "    }\n",
       "\n",
       "    .dataframe tbody tr th {\n",
       "        vertical-align: top;\n",
       "    }\n",
       "\n",
       "    .dataframe thead th {\n",
       "        text-align: right;\n",
       "    }\n",
       "</style>\n",
       "<table border=\"1\" class=\"dataframe\">\n",
       "  <thead>\n",
       "    <tr style=\"text-align: right;\">\n",
       "      <th></th>\n",
       "      <th>Transaction ID</th>\n",
       "      <th>Date</th>\n",
       "      <th>Description</th>\n",
       "      <th>Check Number</th>\n",
       "      <th>Category</th>\n",
       "      <th>Amount</th>\n",
       "      <th>Balance</th>\n",
       "    </tr>\n",
       "  </thead>\n",
       "  <tbody>\n",
       "    <tr>\n",
       "      <th>0</th>\n",
       "      <td>98347570|2914</td>\n",
       "      <td>08/24/23</td>\n",
       "      <td>External Withdrawal PAYPAL 230823PPZ6KO - INST...</td>\n",
       "      <td>NaN</td>\n",
       "      <td>Transfers</td>\n",
       "      <td>-$9.99</td>\n",
       "      <td>$1,958.17</td>\n",
       "    </tr>\n",
       "    <tr>\n",
       "      <th>1</th>\n",
       "      <td>98347570|2913</td>\n",
       "      <td>08/21/23</td>\n",
       "      <td>External Deposit PAYPAL TRANSFER - TRANSFER</td>\n",
       "      <td>NaN</td>\n",
       "      <td>Transfers</td>\n",
       "      <td>$59.26</td>\n",
       "      <td>$1,968.16</td>\n",
       "    </tr>\n",
       "    <tr>\n",
       "      <th>2</th>\n",
       "      <td>98347570|2912</td>\n",
       "      <td>08/16/23</td>\n",
       "      <td>Withdrawal Transfer To *7589; REF:</td>\n",
       "      <td>NaN</td>\n",
       "      <td>Transfers</td>\n",
       "      <td>-$235.00</td>\n",
       "      <td>$1,908.90</td>\n",
       "    </tr>\n",
       "    <tr>\n",
       "      <th>3</th>\n",
       "      <td>98347570|2911</td>\n",
       "      <td>08/07/23</td>\n",
       "      <td>Withdrawal Transfer To *7589; REF:</td>\n",
       "      <td>NaN</td>\n",
       "      <td>Transfers</td>\n",
       "      <td>-$60.00</td>\n",
       "      <td>$2,143.90</td>\n",
       "    </tr>\n",
       "    <tr>\n",
       "      <th>4</th>\n",
       "      <td>98347570|2910</td>\n",
       "      <td>08/07/23</td>\n",
       "      <td>Deposit Transfer From *6495; REF:</td>\n",
       "      <td>NaN</td>\n",
       "      <td>Transfers</td>\n",
       "      <td>$1,476.00</td>\n",
       "      <td>$2,203.90</td>\n",
       "    </tr>\n",
       "  </tbody>\n",
       "</table>\n",
       "</div>"
      ],
      "text/plain": [
       "  Transaction ID      Date                                        Description  \\\n",
       "0  98347570|2914  08/24/23  External Withdrawal PAYPAL 230823PPZ6KO - INST...   \n",
       "1  98347570|2913  08/21/23        External Deposit PAYPAL TRANSFER - TRANSFER   \n",
       "2  98347570|2912  08/16/23                 Withdrawal Transfer To *7589; REF:   \n",
       "3  98347570|2911  08/07/23                 Withdrawal Transfer To *7589; REF:   \n",
       "4  98347570|2910  08/07/23                  Deposit Transfer From *6495; REF:   \n",
       "\n",
       "   Check Number   Category     Amount    Balance  \n",
       "0           NaN  Transfers     -$9.99  $1,958.17  \n",
       "1           NaN  Transfers     $59.26  $1,968.16  \n",
       "2           NaN  Transfers   -$235.00  $1,908.90  \n",
       "3           NaN  Transfers    -$60.00  $2,143.90  \n",
       "4           NaN  Transfers  $1,476.00  $2,203.90  "
      ]
     },
     "execution_count": 5,
     "metadata": {},
     "output_type": "execute_result"
    }
   ],
   "source": [
    "df_savings = pd.read_csv('../data/Savings_transactions.csv')\n",
    "df_savings.head()"
   ]
  },
  {
   "cell_type": "markdown",
   "metadata": {},
   "source": [
    "## Checking account"
   ]
  },
  {
   "cell_type": "markdown",
   "metadata": {},
   "source": [
    "#### Plan for the data set\n",
    "1. Fix the Transaction ID so it only has the number after the '/'\n",
    "2. Change the [Date] to \"Date time\" stuff. \n",
    "3. Turn the [Date] in to the Index. \n",
    "4. Add \"Is_Check\" coloumn based on the [Check Number] coloumn. \n",
    "5. Replace all the [Check Number] \"NaN\" values with \"N/A\"\n",
    "6. take away the \"$\" from the [Amount] and [Balance] coloumns"
   ]
  },
  {
   "cell_type": "markdown",
   "metadata": {},
   "source": [
    "### 1. Transaction "
   ]
  },
  {
   "cell_type": "code",
   "execution_count": 8,
   "metadata": {},
   "outputs": [
    {
     "data": {
      "text/plain": [
       "0       9178\n",
       "1       9177\n",
       "2       9176\n",
       "3       9175\n",
       "4       9174\n",
       "        ... \n",
       "1471    7706\n",
       "1472    7705\n",
       "1473    7703\n",
       "1474    7702\n",
       "1475    7700\n",
       "Name: Transaction ID, Length: 1476, dtype: object"
      ]
     },
     "execution_count": 8,
     "metadata": {},
     "output_type": "execute_result"
    }
   ],
   "source": [
    "# Get the last 4 digits \n",
    "df_checking['Transaction ID'] = df_checking['Transaction ID'].str.split('|').str[-1]\n",
    "df_checking[\"Transaction ID\"]"
   ]
  },
  {
   "cell_type": "code",
   "execution_count": 9,
   "metadata": {},
   "outputs": [
    {
     "data": {
      "text/html": [
       "<div>\n",
       "<style scoped>\n",
       "    .dataframe tbody tr th:only-of-type {\n",
       "        vertical-align: middle;\n",
       "    }\n",
       "\n",
       "    .dataframe tbody tr th {\n",
       "        vertical-align: top;\n",
       "    }\n",
       "\n",
       "    .dataframe thead th {\n",
       "        text-align: right;\n",
       "    }\n",
       "</style>\n",
       "<table border=\"1\" class=\"dataframe\">\n",
       "  <thead>\n",
       "    <tr style=\"text-align: right;\">\n",
       "      <th></th>\n",
       "      <th>Transaction ID</th>\n",
       "      <th>Date</th>\n",
       "      <th>Description</th>\n",
       "      <th>Check Number</th>\n",
       "      <th>Category</th>\n",
       "      <th>Amount</th>\n",
       "      <th>Balance</th>\n",
       "    </tr>\n",
       "  </thead>\n",
       "  <tbody>\n",
       "    <tr>\n",
       "      <th>0</th>\n",
       "      <td>9178</td>\n",
       "      <td>08/24/23</td>\n",
       "      <td>Point Of Sale Withdrawal KRISPY KREME #1123   ...</td>\n",
       "      <td>NaN</td>\n",
       "      <td>Restaurants/Dining</td>\n",
       "      <td>-$23.39</td>\n",
       "      <td>$180.15</td>\n",
       "    </tr>\n",
       "  </tbody>\n",
       "</table>\n",
       "</div>"
      ],
      "text/plain": [
       "  Transaction ID      Date                                        Description  \\\n",
       "0           9178  08/24/23  Point Of Sale Withdrawal KRISPY KREME #1123   ...   \n",
       "\n",
       "   Check Number            Category   Amount  Balance  \n",
       "0           NaN  Restaurants/Dining  -$23.39  $180.15  "
      ]
     },
     "execution_count": 9,
     "metadata": {},
     "output_type": "execute_result"
    }
   ],
   "source": [
    "df_checking.head(1)"
   ]
  },
  {
   "cell_type": "markdown",
   "metadata": {},
   "source": [
    "### 2. Date"
   ]
  },
  {
   "cell_type": "code",
   "execution_count": 11,
   "metadata": {},
   "outputs": [],
   "source": [
    "# Make the Data Column a Data Time data time. \n",
    "df_checking['Date'] = pd.to_datetime(df_checking['Date'], format='%m/%d/%y')"
   ]
  },
  {
   "cell_type": "code",
   "execution_count": 12,
   "metadata": {},
   "outputs": [
    {
     "data": {
      "text/html": [
       "<div>\n",
       "<style scoped>\n",
       "    .dataframe tbody tr th:only-of-type {\n",
       "        vertical-align: middle;\n",
       "    }\n",
       "\n",
       "    .dataframe tbody tr th {\n",
       "        vertical-align: top;\n",
       "    }\n",
       "\n",
       "    .dataframe thead th {\n",
       "        text-align: right;\n",
       "    }\n",
       "</style>\n",
       "<table border=\"1\" class=\"dataframe\">\n",
       "  <thead>\n",
       "    <tr style=\"text-align: right;\">\n",
       "      <th></th>\n",
       "      <th>Transaction ID</th>\n",
       "      <th>Date</th>\n",
       "      <th>Description</th>\n",
       "      <th>Check Number</th>\n",
       "      <th>Category</th>\n",
       "      <th>Amount</th>\n",
       "      <th>Balance</th>\n",
       "    </tr>\n",
       "  </thead>\n",
       "  <tbody>\n",
       "    <tr>\n",
       "      <th>0</th>\n",
       "      <td>9178</td>\n",
       "      <td>2023-08-24</td>\n",
       "      <td>Point Of Sale Withdrawal KRISPY KREME #1123   ...</td>\n",
       "      <td>NaN</td>\n",
       "      <td>Restaurants/Dining</td>\n",
       "      <td>-$23.39</td>\n",
       "      <td>$180.15</td>\n",
       "    </tr>\n",
       "  </tbody>\n",
       "</table>\n",
       "</div>"
      ],
      "text/plain": [
       "  Transaction ID       Date  \\\n",
       "0           9178 2023-08-24   \n",
       "\n",
       "                                         Description  Check Number  \\\n",
       "0  Point Of Sale Withdrawal KRISPY KREME #1123   ...           NaN   \n",
       "\n",
       "             Category   Amount  Balance  \n",
       "0  Restaurants/Dining  -$23.39  $180.15  "
      ]
     },
     "execution_count": 12,
     "metadata": {},
     "output_type": "execute_result"
    }
   ],
   "source": [
    "df_checking.head(1)"
   ]
  },
  {
   "cell_type": "code",
   "execution_count": 13,
   "metadata": {},
   "outputs": [],
   "source": [
    "# Set the Index to the Date Column\n",
    "df_checking.set_index('Date', inplace=True)"
   ]
  },
  {
   "cell_type": "code",
   "execution_count": 14,
   "metadata": {},
   "outputs": [
    {
     "data": {
      "text/html": [
       "<div>\n",
       "<style scoped>\n",
       "    .dataframe tbody tr th:only-of-type {\n",
       "        vertical-align: middle;\n",
       "    }\n",
       "\n",
       "    .dataframe tbody tr th {\n",
       "        vertical-align: top;\n",
       "    }\n",
       "\n",
       "    .dataframe thead th {\n",
       "        text-align: right;\n",
       "    }\n",
       "</style>\n",
       "<table border=\"1\" class=\"dataframe\">\n",
       "  <thead>\n",
       "    <tr style=\"text-align: right;\">\n",
       "      <th></th>\n",
       "      <th>Transaction ID</th>\n",
       "      <th>Description</th>\n",
       "      <th>Check Number</th>\n",
       "      <th>Category</th>\n",
       "      <th>Amount</th>\n",
       "      <th>Balance</th>\n",
       "    </tr>\n",
       "    <tr>\n",
       "      <th>Date</th>\n",
       "      <th></th>\n",
       "      <th></th>\n",
       "      <th></th>\n",
       "      <th></th>\n",
       "      <th></th>\n",
       "      <th></th>\n",
       "    </tr>\n",
       "  </thead>\n",
       "  <tbody>\n",
       "    <tr>\n",
       "      <th>2023-08-24</th>\n",
       "      <td>9178</td>\n",
       "      <td>Point Of Sale Withdrawal KRISPY KREME #1123   ...</td>\n",
       "      <td>NaN</td>\n",
       "      <td>Restaurants/Dining</td>\n",
       "      <td>-$23.39</td>\n",
       "      <td>$180.15</td>\n",
       "    </tr>\n",
       "  </tbody>\n",
       "</table>\n",
       "</div>"
      ],
      "text/plain": [
       "           Transaction ID                                        Description  \\\n",
       "Date                                                                           \n",
       "2023-08-24           9178  Point Of Sale Withdrawal KRISPY KREME #1123   ...   \n",
       "\n",
       "            Check Number            Category   Amount  Balance  \n",
       "Date                                                            \n",
       "2023-08-24           NaN  Restaurants/Dining  -$23.39  $180.15  "
      ]
     },
     "execution_count": 14,
     "metadata": {},
     "output_type": "execute_result"
    }
   ],
   "source": [
    "df_checking.head(1)"
   ]
  },
  {
   "cell_type": "markdown",
   "metadata": {},
   "source": [
    "### 3. Is_Check column & Check Number"
   ]
  },
  {
   "cell_type": "code",
   "execution_count": 15,
   "metadata": {},
   "outputs": [],
   "source": [
    "# Replace the NaN Values\n",
    "df_checking['Check Number'].fillna(\"Not Check\", inplace=True)"
   ]
  },
  {
   "cell_type": "code",
   "execution_count": 17,
   "metadata": {},
   "outputs": [],
   "source": [
    "df_checking[\"is_check\"] = np.where(df_checking['Check Number'].isin(['Not Check']), 0, 1)"
   ]
  },
  {
   "cell_type": "code",
   "execution_count": 18,
   "metadata": {},
   "outputs": [
    {
     "data": {
      "text/html": [
       "<div>\n",
       "<style scoped>\n",
       "    .dataframe tbody tr th:only-of-type {\n",
       "        vertical-align: middle;\n",
       "    }\n",
       "\n",
       "    .dataframe tbody tr th {\n",
       "        vertical-align: top;\n",
       "    }\n",
       "\n",
       "    .dataframe thead th {\n",
       "        text-align: right;\n",
       "    }\n",
       "</style>\n",
       "<table border=\"1\" class=\"dataframe\">\n",
       "  <thead>\n",
       "    <tr style=\"text-align: right;\">\n",
       "      <th></th>\n",
       "      <th>Transaction ID</th>\n",
       "      <th>Description</th>\n",
       "      <th>Check Number</th>\n",
       "      <th>Category</th>\n",
       "      <th>Amount</th>\n",
       "      <th>Balance</th>\n",
       "      <th>is_check</th>\n",
       "    </tr>\n",
       "    <tr>\n",
       "      <th>Date</th>\n",
       "      <th></th>\n",
       "      <th></th>\n",
       "      <th></th>\n",
       "      <th></th>\n",
       "      <th></th>\n",
       "      <th></th>\n",
       "      <th></th>\n",
       "    </tr>\n",
       "  </thead>\n",
       "  <tbody>\n",
       "    <tr>\n",
       "      <th>2023-08-24</th>\n",
       "      <td>9178</td>\n",
       "      <td>Point Of Sale Withdrawal KRISPY KREME #1123   ...</td>\n",
       "      <td>Not Check</td>\n",
       "      <td>Restaurants/Dining</td>\n",
       "      <td>-$23.39</td>\n",
       "      <td>$180.15</td>\n",
       "      <td>0</td>\n",
       "    </tr>\n",
       "  </tbody>\n",
       "</table>\n",
       "</div>"
      ],
      "text/plain": [
       "           Transaction ID                                        Description  \\\n",
       "Date                                                                           \n",
       "2023-08-24           9178  Point Of Sale Withdrawal KRISPY KREME #1123   ...   \n",
       "\n",
       "           Check Number            Category   Amount  Balance  is_check  \n",
       "Date                                                                     \n",
       "2023-08-24    Not Check  Restaurants/Dining  -$23.39  $180.15         0  "
      ]
     },
     "execution_count": 18,
     "metadata": {},
     "output_type": "execute_result"
    }
   ],
   "source": [
    "df_checking.head(1)"
   ]
  },
  {
   "cell_type": "code",
   "execution_count": null,
   "metadata": {},
   "outputs": [],
   "source": []
  },
  {
   "cell_type": "code",
   "execution_count": null,
   "metadata": {},
   "outputs": [],
   "source": []
  },
  {
   "cell_type": "code",
   "execution_count": null,
   "metadata": {},
   "outputs": [],
   "source": []
  },
  {
   "cell_type": "code",
   "execution_count": null,
   "metadata": {},
   "outputs": [],
   "source": []
  }
 ],
 "metadata": {
  "kernelspec": {
   "display_name": "py3.10.6",
   "language": "python",
   "name": "python3"
  },
  "language_info": {
   "codemirror_mode": {
    "name": "ipython",
    "version": 3
   },
   "file_extension": ".py",
   "mimetype": "text/x-python",
   "name": "python",
   "nbconvert_exporter": "python",
   "pygments_lexer": "ipython3",
   "version": "3.10.6"
  },
  "orig_nbformat": 4
 },
 "nbformat": 4,
 "nbformat_minor": 2
}
